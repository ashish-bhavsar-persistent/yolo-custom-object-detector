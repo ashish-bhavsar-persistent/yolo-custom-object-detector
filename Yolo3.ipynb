{
  "nbformat": 4,
  "nbformat_minor": 0,
  "metadata": {
    "colab": {
      "name": "Yolo3.ipynb",
      "version": "0.3.2",
      "provenance": [],
      "collapsed_sections": [],
      "include_colab_link": true
    },
    "kernelspec": {
      "name": "python3",
      "display_name": "Python 3"
    },
    "accelerator": "GPU"
  },
  "cells": [
    {
      "cell_type": "markdown",
      "metadata": {
        "id": "view-in-github",
        "colab_type": "text"
      },
      "source": [
        "<a href=\"https://colab.research.google.com/github/ashish-bhavsar-persistent/yolo-custom-object-detector/blob/master/Yolo3.ipynb\" target=\"_parent\"><img src=\"https://colab.research.google.com/assets/colab-badge.svg\" alt=\"Open In Colab\"/></a>"
      ]
    },
    {
      "metadata": {
        "id": "C3ix7Z4ptwTZ",
        "colab_type": "code",
        "colab": {}
      },
      "cell_type": "code",
      "source": [
        "!git clone https://github.com/pjreddie/darknet.git\n",
        "%cd darknet\n",
        "!make\n",
        "!./darknet\n"
      ],
      "execution_count": 0,
      "outputs": []
    },
    {
      "metadata": {
        "id": "O_GwJYZvueeJ",
        "colab_type": "code",
        "colab": {}
      },
      "cell_type": "code",
      "source": [
        "%cd /content\n",
        "!ls\n",
        "!rm -rf yolo-custom-object-detector\n",
        "!git clone https://github.com/ashish-bhavsar-persistent/yolo-custom-object-detector.git\n",
        "%cd /content/yolo-custom-object-detector/python"
      ],
      "execution_count": 0,
      "outputs": []
    },
    {
      "metadata": {
        "id": "K980hfOFuhgZ",
        "colab_type": "code",
        "colab": {}
      },
      "cell_type": "code",
      "source": [
        "!make\n",
        "!wget https://pjreddie.com/media/files/darknet53.conv.74\n",
        "!ls"
      ],
      "execution_count": 0,
      "outputs": []
    },
    {
      "metadata": {
        "id": "raWSZvat5OUx",
        "colab_type": "code",
        "colab": {
          "base_uri": "https://localhost:8080/",
          "height": 476
        },
        "outputId": "e21781ea-022b-40e0-ac6d-baa89a977f24"
      },
      "cell_type": "code",
      "source": [
        "\n",
        "!./darknet detector train custom/trainer.data custom/yolov3-tiny.cfg darknet53.conv.74 \n",
        "!ls backup/"
      ],
      "execution_count": 0,
      "outputs": [
        {
          "output_type": "stream",
          "text": [
            "Region 23 Avg IOU: -nan, Class: -nan, Obj: -nan, No Obj: 0.121513, .5R: -nan, .75R: -nan,  count: 0\n",
            "325: 58.469543, 74.750580 avg, 0.000011 rate, 3.608556 seconds, 325 images\n",
            "Loaded: 0.000095 seconds\n",
            "Region 16 Avg IOU: -nan, Class: -nan, Obj: -nan, No Obj: 0.333673, .5R: -nan, .75R: -nan,  count: 0\n",
            "Region 23 Avg IOU: 0.562505, Class: 0.499584, Obj: 0.119734, No Obj: 0.119123, .5R: 1.000000, .75R: 0.000000,  count: 1\n",
            "326: 58.195251, 73.095047 avg, 0.000011 rate, 3.623351 seconds, 326 images\n",
            "Loaded: 0.000091 seconds\n",
            "Region 16 Avg IOU: 0.660047, Class: 0.500230, Obj: 0.331849, No Obj: 0.331605, .5R: 1.000000, .75R: 0.000000,  count: 1\n",
            "Region 23 Avg IOU: -nan, Class: -nan, Obj: -nan, No Obj: 0.116764, .5R: -nan, .75R: -nan,  count: 0\n",
            "327: 56.272312, 71.412773 avg, 0.000011 rate, 3.623067 seconds, 327 images\n",
            "Loaded: 0.000086 seconds\n",
            "Region 16 Avg IOU: -nan, Class: -nan, Obj: -nan, No Obj: 0.329536, .5R: -nan, .75R: -nan,  count: 0\n",
            "Region 23 Avg IOU: 0.532998, Class: 0.497965, Obj: 0.114903, No Obj: 0.114434, .5R: 1.000000, .75R: 0.000000,  count: 1\n",
            "328: 55.264099, 69.797905 avg, 0.000012 rate, 3.633788 seconds, 328 images\n",
            "Loaded: 0.000065 seconds\n",
            "Region 16 Avg IOU: 0.460095, Class: 0.500239, Obj: 0.327708, No Obj: 0.327466, .5R: 0.000000, .75R: 0.000000,  count: 1\n",
            "Region 23 Avg IOU: -nan, Class: -nan, Obj: -nan, No Obj: 0.112129, .5R: -nan, .75R: -nan,  count: 0\n",
            "329: 54.485748, 68.266693 avg, 0.000012 rate, 3.663536 seconds, 329 images\n",
            "Loaded: 0.000072 seconds\n",
            "Region 16 Avg IOU: -nan, Class: -nan, Obj: -nan, No Obj: 0.325396, .5R: -nan, .75R: -nan,  count: 0\n",
            "Region 23 Avg IOU: 0.530967, Class: 0.499682, Obj: 0.111055, No Obj: 0.109858, .5R: 1.000000, .75R: 0.000000,  count: 1\n",
            "330: 53.455765, 66.785599 avg, 0.000012 rate, 3.652131 seconds, 330 images\n",
            "Resizing\n",
            "576\n",
            "Loaded: 0.000090 seconds\n",
            "Region 16 Avg IOU: 0.710674, Class: 0.501516, Obj: 0.322868, No Obj: 0.323323, .5R: 1.000000, .75R: 0.000000,  count: 1\n",
            "Region 23 Avg IOU: -nan, Class: -nan, Obj: -nan, No Obj: 0.107613, .5R: -nan, .75R: -nan,  count: 0\n"
          ],
          "name": "stdout"
        }
      ]
    },
    {
      "metadata": {
        "id": "iW70eOg2XFxt",
        "colab_type": "code",
        "colab": {
          "base_uri": "https://localhost:8080/",
          "height": 102
        },
        "outputId": "9eb74274-0e0e-4a6e-dcfd-97b7c5892c00"
      },
      "cell_type": "code",
      "source": [
        "!ls\n",
        "!git pull\n",
        "!ls"
      ],
      "execution_count": 34,
      "outputs": [
        {
          "output_type": "stream",
          "text": [
            "backup\t darknet53.conv.74  java\t  libdarknet.so  python     results\n",
            "darknet  docker\t\t    libdarknet.a  obj\t\t README.md\n",
            "Already up to date.\n",
            "backup\t darknet53.conv.74  java\t  libdarknet.so  python     results\n",
            "darknet  docker\t\t    libdarknet.a  obj\t\t README.md\n"
          ],
          "name": "stdout"
        }
      ]
    }
  ]
}